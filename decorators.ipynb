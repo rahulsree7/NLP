{
 "cells": [
  {
   "cell_type": "code",
   "execution_count": 81,
   "metadata": {},
   "outputs": [],
   "source": [
    "## Function copy\n",
    "\n",
    "def welcome():\n",
    "    return \"welcome to python programming\"\n",
    "\n",
    "welcome()\n",
    "\n",
    "wel = welcome\n",
    "\n"
   ]
  },
  {
   "cell_type": "code",
   "execution_count": 82,
   "metadata": {},
   "outputs": [
    {
     "name": "stdout",
     "output_type": "stream",
     "text": [
      "welcome to python programming\n",
      "welcome to python programming\n"
     ]
    }
   ],
   "source": [
    "\n",
    "\n",
    "print(wel())\n",
    "\n",
    "del welcome\n",
    "\n",
    "print(wel())"
   ]
  },
  {
   "cell_type": "code",
   "execution_count": 83,
   "metadata": {},
   "outputs": [],
   "source": [
    "## Closures - Function inside a function\n",
    "\n",
    "def main_fun(msg):\n",
    " \n",
    "    def sub_fun():\n",
    "        print(\"welcome to python\")\n",
    "        print(\"Test sub function\")\n",
    "        print(msg)\n",
    "    return sub_fun()"
   ]
  },
  {
   "cell_type": "code",
   "execution_count": 84,
   "metadata": {},
   "outputs": [
    {
     "name": "stdout",
     "output_type": "stream",
     "text": [
      "welcome to python\n",
      "Test sub function\n",
      "Welcome\n"
     ]
    }
   ],
   "source": [
    "main_fun(\"Welcome\")"
   ]
  },
  {
   "cell_type": "code",
   "execution_count": 85,
   "metadata": {},
   "outputs": [
    {
     "name": "stdout",
     "output_type": "stream",
     "text": [
      "welcome to python\n",
      "Test sub function\n",
      "5\n"
     ]
    }
   ],
   "source": [
    "def main_fun(func,list):\n",
    " \n",
    "    def sub_fun():\n",
    "        print(\"welcome to python\")\n",
    "        print(\"Test sub function\")\n",
    "        print(func(list))\n",
    "    return sub_fun()\n",
    "\n",
    "main_fun(len, [1,2,3,4,5])"
   ]
  },
  {
   "cell_type": "code",
   "execution_count": 86,
   "metadata": {},
   "outputs": [],
   "source": [
    "##Decorator\n",
    "\n",
    "def main_fun(msg):\n",
    " \n",
    "    def sub_fun():\n",
    "        print(\"welcome to python\")\n",
    "        print(\"Test sub function\")\n",
    "        msg()\n",
    "    return sub_fun()"
   ]
  },
  {
   "cell_type": "code",
   "execution_count": 91,
   "metadata": {},
   "outputs": [
    {
     "name": "stdout",
     "output_type": "stream",
     "text": [
      "welcome to python\n",
      "Test sub function\n",
      "advance python\n"
     ]
    }
   ],
   "source": [
    "@main_fun\n",
    "def cource_intro():\n",
    "    print(\"advance python\")\n",
    "    "
   ]
  },
  {
   "cell_type": "code",
   "execution_count": 95,
   "metadata": {},
   "outputs": [
    {
     "name": "stdout",
     "output_type": "stream",
     "text": [
      "hello\n",
      "hello\n",
      "hello\n"
     ]
    }
   ],
   "source": [
    "def main_func(n):\n",
    "    def decorator(func):\n",
    "        def wrapper(*args, **kwargs):\n",
    "            for _ in range(n):\n",
    "                func(*args, **kwargs)\n",
    "        return wrapper\n",
    "    return decorator\n",
    "\n",
    "\n",
    "\n",
    "@main_func(3)\n",
    "def sub_func():\n",
    "    print(\"hello\")\n",
    "    \n",
    "sub_func()\n"
   ]
  }
 ],
 "metadata": {
  "kernelspec": {
   "display_name": "Python 3",
   "language": "python",
   "name": "python3"
  },
  "language_info": {
   "codemirror_mode": {
    "name": "ipython",
    "version": 3
   },
   "file_extension": ".py",
   "mimetype": "text/x-python",
   "name": "python",
   "nbconvert_exporter": "python",
   "pygments_lexer": "ipython3",
   "version": "3.12.0"
  }
 },
 "nbformat": 4,
 "nbformat_minor": 2
}
